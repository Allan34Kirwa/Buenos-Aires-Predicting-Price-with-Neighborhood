{
 "cells": [
  {
   "cell_type": "code",
   "execution_count": 1,
   "id": "a2e212b2",
   "metadata": {
    "_cell_guid": "b1076dfc-b9ad-4769-8c92-a6c4dae69d19",
    "_uuid": "8f2839f25d086af736a60e9eeb907d3b93b6e0e5",
    "execution": {
     "iopub.execute_input": "2024-02-12T17:59:49.219206Z",
     "iopub.status.busy": "2024-02-12T17:59:49.218863Z",
     "iopub.status.idle": "2024-02-12T17:59:51.673049Z",
     "shell.execute_reply": "2024-02-12T17:59:51.672161Z"
    },
    "papermill": {
     "duration": 2.467371,
     "end_time": "2024-02-12T17:59:51.675184",
     "exception": false,
     "start_time": "2024-02-12T17:59:49.207813",
     "status": "completed"
    },
    "tags": []
   },
   "outputs": [
    {
     "name": "stdout",
     "output_type": "stream",
     "text": [
      "/kaggle/input/all-datasets-of-buenos-aires/buenos-aires-real-estate-2.csv\n",
      "/kaggle/input/all-datasets-of-buenos-aires/buenos-aires-real-estate-1.csv\n",
      "/kaggle/input/all-datasets-of-buenos-aires/buenos-aires-real-estate-5.csv\n",
      "/kaggle/input/all-datasets-of-buenos-aires/buenos-aires-real-estate-3.csv\n",
      "/kaggle/input/all-datasets-of-buenos-aires/buenos-aires-real-estate-4.csv\n"
     ]
    }
   ],
   "source": [
    "import warnings\n",
    "from glob import glob\n",
    "\n",
    "import matplotlib.pyplot as plt\n",
    "import numpy as np # linear algebra\n",
    "import pandas as pd # data processing, CSV file I/O (e.g. pd.read_csv)\n",
    "from category_encoders import OneHotEncoder\n",
    "from IPython.display import VimeoVideo\n",
    "from sklearn.linear_model import LinearRegression, Ridge  # noqa F401\n",
    "from sklearn.metrics import mean_absolute_error\n",
    "from sklearn.pipeline import make_pipeline\n",
    "from sklearn.utils.validation import check_is_fitted\n",
    "\n",
    "warnings.simplefilter(action=\"ignore\", category=FutureWarning)\n",
    "\n",
    "# Input data files are available in the read-only \"../input/\" directory\n",
    "# For example, running this (by clicking run or pressing Shift+Enter) will list all files under the input directory\n",
    "\n",
    "import os\n",
    "for dirname, _, filenames in os.walk('/kaggle/input'):\n",
    "    for filename in filenames:\n",
    "        print(os.path.join(dirname, filename))\n"
   ]
  },
  {
   "cell_type": "markdown",
   "id": "3bde5e11",
   "metadata": {
    "papermill": {
     "duration": 0.008867,
     "end_time": "2024-02-12T17:59:51.693219",
     "exception": false,
     "start_time": "2024-02-12T17:59:51.684352",
     "status": "completed"
    },
    "tags": []
   },
   "source": [
    "In this project, I will be creating a model that predicts how neighborhood determines real estate prices in Argentina"
   ]
  },
  {
   "cell_type": "code",
   "execution_count": 2,
   "id": "8b279273",
   "metadata": {
    "execution": {
     "iopub.execute_input": "2024-02-12T17:59:51.712569Z",
     "iopub.status.busy": "2024-02-12T17:59:51.712070Z",
     "iopub.status.idle": "2024-02-12T17:59:51.720013Z",
     "shell.execute_reply": "2024-02-12T17:59:51.719017Z"
    },
    "papermill": {
     "duration": 0.01996,
     "end_time": "2024-02-12T17:59:51.722009",
     "exception": false,
     "start_time": "2024-02-12T17:59:51.702049",
     "status": "completed"
    },
    "tags": []
   },
   "outputs": [],
   "source": [
    "# The first thing to do is to import my data by creating a path through a function\n",
    "def wrangle(filepath):\n",
    "    # Read CSV file\n",
    "    df = pd.read_csv(filepath)\n",
    "\n",
    "    # Subset data: Apartments in \"Capital Federal\", less than 400,000\n",
    "    mask_ba = df[\"place_with_parent_names\"].str.contains(\"Capital Federal\")\n",
    "    mask_apt = df[\"property_type\"] == \"apartment\"\n",
    "    mask_price = df[\"price_aprox_usd\"] < 400_000\n",
    "    df = df[mask_ba & mask_apt & mask_price]\n",
    "\n",
    "    # Subset data: Remove outliers for \"surface_covered_in_m2\"\n",
    "    low, high = df[\"surface_covered_in_m2\"].quantile([0.1, 0.9])\n",
    "    mask_area = df[\"surface_covered_in_m2\"].between(low, high)\n",
    "    df = df[mask_area]\n",
    "\n",
    "    # Split \"lat-lon\" column\n",
    "    df[[\"lat\", \"lon\"]] = df[\"lat-lon\"].str.split(\",\", expand=True).astype(float)\n",
    "    df.drop(columns=\"lat-lon\", inplace=True)\n",
    "    \n",
    "    # Extract `neighborhood` \n",
    "    df[\"neighborhood\"] = df[\"place_with_parent_names\"].str.split(\"|\", expand=True)[3]\n",
    "    df.drop(columns = \"place_with_parent_names\", inplace=True)\n",
    "    \n",
    "    return df"
   ]
  },
  {
   "cell_type": "markdown",
   "id": "6ac00443",
   "metadata": {
    "papermill": {
     "duration": 0.009496,
     "end_time": "2024-02-12T17:59:51.740305",
     "exception": false,
     "start_time": "2024-02-12T17:59:51.730809",
     "status": "completed"
    },
    "tags": []
   },
   "source": [
    "Note that I am now dealing with a non-numerical data `neighborhood`"
   ]
  },
  {
   "cell_type": "markdown",
   "id": "e5da7bcc",
   "metadata": {
    "papermill": {
     "duration": 0.00872,
     "end_time": "2024-02-12T17:59:51.757764",
     "exception": false,
     "start_time": "2024-02-12T17:59:51.749044",
     "status": "completed"
    },
    "tags": []
   },
   "source": [
    "Due to the fact that I have many CV files, I will use use `glob` to create a list that contains the filenames for all the Buenos Aires real estate CSV files in the data directory. Assign this list to the variable name files."
   ]
  },
  {
   "cell_type": "code",
   "execution_count": 3,
   "id": "f30f9a0c",
   "metadata": {
    "execution": {
     "iopub.execute_input": "2024-02-12T17:59:51.777403Z",
     "iopub.status.busy": "2024-02-12T17:59:51.776376Z",
     "iopub.status.idle": "2024-02-12T17:59:51.784338Z",
     "shell.execute_reply": "2024-02-12T17:59:51.783370Z"
    },
    "papermill": {
     "duration": 0.019798,
     "end_time": "2024-02-12T17:59:51.786319",
     "exception": false,
     "start_time": "2024-02-12T17:59:51.766521",
     "status": "completed"
    },
    "tags": []
   },
   "outputs": [
    {
     "data": {
      "text/plain": [
       "['/kaggle/input/all-datasets-of-buenos-aires/buenos-aires-real-estate-2.csv',\n",
       " '/kaggle/input/all-datasets-of-buenos-aires/buenos-aires-real-estate-1.csv',\n",
       " '/kaggle/input/all-datasets-of-buenos-aires/buenos-aires-real-estate-5.csv',\n",
       " '/kaggle/input/all-datasets-of-buenos-aires/buenos-aires-real-estate-3.csv',\n",
       " '/kaggle/input/all-datasets-of-buenos-aires/buenos-aires-real-estate-4.csv']"
      ]
     },
     "execution_count": 3,
     "metadata": {},
     "output_type": "execute_result"
    }
   ],
   "source": [
    "files = glob(\"/kaggle/input/all-datasets-of-buenos-aires/buenos-aires-real-estate-*csv\")\n",
    "files"
   ]
  },
  {
   "cell_type": "code",
   "execution_count": 4,
   "id": "9bac7937",
   "metadata": {
    "execution": {
     "iopub.execute_input": "2024-02-12T17:59:51.806072Z",
     "iopub.status.busy": "2024-02-12T17:59:51.805136Z",
     "iopub.status.idle": "2024-02-12T17:59:51.809123Z",
     "shell.execute_reply": "2024-02-12T17:59:51.808469Z"
    },
    "papermill": {
     "duration": 0.015777,
     "end_time": "2024-02-12T17:59:51.810942",
     "exception": false,
     "start_time": "2024-02-12T17:59:51.795165",
     "status": "completed"
    },
    "tags": []
   },
   "outputs": [],
   "source": [
    "# Check my work\n",
    "assert len(files) == 5, f\"`files` should contain 5 items, not {len(files)}\""
   ]
  },
  {
   "cell_type": "markdown",
   "id": "3162d12c",
   "metadata": {
    "papermill": {
     "duration": 0.008866,
     "end_time": "2024-02-12T17:59:51.828879",
     "exception": false,
     "start_time": "2024-02-12T17:59:51.820013",
     "status": "completed"
    },
    "tags": []
   },
   "source": [
    "Next, I will have to read through every `CSV` file and  use `for` loop by creating a list called `frames` by using my `wrangle` function"
   ]
  },
  {
   "cell_type": "code",
   "execution_count": 5,
   "id": "3a3702a3",
   "metadata": {
    "execution": {
     "iopub.execute_input": "2024-02-12T17:59:51.848871Z",
     "iopub.status.busy": "2024-02-12T17:59:51.847915Z",
     "iopub.status.idle": "2024-02-12T17:59:52.257871Z",
     "shell.execute_reply": "2024-02-12T17:59:52.256798Z"
    },
    "papermill": {
     "duration": 0.422799,
     "end_time": "2024-02-12T17:59:52.260610",
     "exception": false,
     "start_time": "2024-02-12T17:59:51.837811",
     "status": "completed"
    },
    "tags": []
   },
   "outputs": [],
   "source": [
    "frames = []\n",
    "for file in files:\n",
    "    df = wrangle(file)\n",
    "    frames.append(df)"
   ]
  },
  {
   "cell_type": "code",
   "execution_count": 6,
   "id": "0fafa383",
   "metadata": {
    "execution": {
     "iopub.execute_input": "2024-02-12T17:59:52.280656Z",
     "iopub.status.busy": "2024-02-12T17:59:52.279849Z",
     "iopub.status.idle": "2024-02-12T17:59:52.285431Z",
     "shell.execute_reply": "2024-02-12T17:59:52.284600Z"
    },
    "papermill": {
     "duration": 0.017788,
     "end_time": "2024-02-12T17:59:52.287567",
     "exception": false,
     "start_time": "2024-02-12T17:59:52.269779",
     "status": "completed"
    },
    "tags": []
   },
   "outputs": [
    {
     "data": {
      "text/plain": [
       "5"
      ]
     },
     "execution_count": 6,
     "metadata": {},
     "output_type": "execute_result"
    }
   ],
   "source": [
    "len(frames)"
   ]
  },
  {
   "cell_type": "code",
   "execution_count": 7,
   "id": "50212384",
   "metadata": {
    "execution": {
     "iopub.execute_input": "2024-02-12T17:59:52.307216Z",
     "iopub.status.busy": "2024-02-12T17:59:52.306896Z",
     "iopub.status.idle": "2024-02-12T17:59:52.330192Z",
     "shell.execute_reply": "2024-02-12T17:59:52.329162Z"
    },
    "papermill": {
     "duration": 0.035832,
     "end_time": "2024-02-12T17:59:52.332388",
     "exception": false,
     "start_time": "2024-02-12T17:59:52.296556",
     "status": "completed"
    },
    "tags": []
   },
   "outputs": [
    {
     "data": {
      "text/html": [
       "<div>\n",
       "<style scoped>\n",
       "    .dataframe tbody tr th:only-of-type {\n",
       "        vertical-align: middle;\n",
       "    }\n",
       "\n",
       "    .dataframe tbody tr th {\n",
       "        vertical-align: top;\n",
       "    }\n",
       "\n",
       "    .dataframe thead th {\n",
       "        text-align: right;\n",
       "    }\n",
       "</style>\n",
       "<table border=\"1\" class=\"dataframe\">\n",
       "  <thead>\n",
       "    <tr style=\"text-align: right;\">\n",
       "      <th></th>\n",
       "      <th>operation</th>\n",
       "      <th>property_type</th>\n",
       "      <th>price</th>\n",
       "      <th>currency</th>\n",
       "      <th>price_aprox_local_currency</th>\n",
       "      <th>price_aprox_usd</th>\n",
       "      <th>surface_total_in_m2</th>\n",
       "      <th>surface_covered_in_m2</th>\n",
       "      <th>price_usd_per_m2</th>\n",
       "      <th>price_per_m2</th>\n",
       "      <th>floor</th>\n",
       "      <th>rooms</th>\n",
       "      <th>expenses</th>\n",
       "      <th>properati_url</th>\n",
       "      <th>lat</th>\n",
       "      <th>lon</th>\n",
       "      <th>neighborhood</th>\n",
       "    </tr>\n",
       "  </thead>\n",
       "  <tbody>\n",
       "    <tr>\n",
       "      <th>2</th>\n",
       "      <td>sell</td>\n",
       "      <td>apartment</td>\n",
       "      <td>215000.0</td>\n",
       "      <td>USD</td>\n",
       "      <td>3259916.00</td>\n",
       "      <td>215000.00</td>\n",
       "      <td>40.0</td>\n",
       "      <td>35.0</td>\n",
       "      <td>5375.000000</td>\n",
       "      <td>6142.857143</td>\n",
       "      <td>NaN</td>\n",
       "      <td>1.0</td>\n",
       "      <td>3500.0</td>\n",
       "      <td>http://recoleta.properati.com.ar/12j4v_venta_d...</td>\n",
       "      <td>-34.588993</td>\n",
       "      <td>-58.400133</td>\n",
       "      <td>Recoleta</td>\n",
       "    </tr>\n",
       "    <tr>\n",
       "      <th>9</th>\n",
       "      <td>sell</td>\n",
       "      <td>apartment</td>\n",
       "      <td>341550.0</td>\n",
       "      <td>USD</td>\n",
       "      <td>5178717.72</td>\n",
       "      <td>341550.00</td>\n",
       "      <td>NaN</td>\n",
       "      <td>90.0</td>\n",
       "      <td>NaN</td>\n",
       "      <td>3795.000000</td>\n",
       "      <td>8.0</td>\n",
       "      <td>2.0</td>\n",
       "      <td>NaN</td>\n",
       "      <td>http://recoleta.properati.com.ar/100t0_venta_d...</td>\n",
       "      <td>-34.588044</td>\n",
       "      <td>-58.398066</td>\n",
       "      <td>Recoleta</td>\n",
       "    </tr>\n",
       "    <tr>\n",
       "      <th>12</th>\n",
       "      <td>sell</td>\n",
       "      <td>apartment</td>\n",
       "      <td>1386000.0</td>\n",
       "      <td>ARS</td>\n",
       "      <td>1382153.13</td>\n",
       "      <td>91156.62</td>\n",
       "      <td>39.0</td>\n",
       "      <td>33.0</td>\n",
       "      <td>2337.349231</td>\n",
       "      <td>42000.000000</td>\n",
       "      <td>NaN</td>\n",
       "      <td>NaN</td>\n",
       "      <td>NaN</td>\n",
       "      <td>http://monserrat.properati.com.ar/t05l_venta_d...</td>\n",
       "      <td>-34.623320</td>\n",
       "      <td>-58.397461</td>\n",
       "      <td>Monserrat</td>\n",
       "    </tr>\n",
       "    <tr>\n",
       "      <th>13</th>\n",
       "      <td>sell</td>\n",
       "      <td>apartment</td>\n",
       "      <td>105000.0</td>\n",
       "      <td>USD</td>\n",
       "      <td>1592052.00</td>\n",
       "      <td>105000.00</td>\n",
       "      <td>NaN</td>\n",
       "      <td>33.0</td>\n",
       "      <td>NaN</td>\n",
       "      <td>3181.818182</td>\n",
       "      <td>1.0</td>\n",
       "      <td>1.0</td>\n",
       "      <td>NaN</td>\n",
       "      <td>http://belgrano.properati.com.ar/zsd5_venta_de...</td>\n",
       "      <td>-34.553897</td>\n",
       "      <td>-58.451939</td>\n",
       "      <td>Belgrano</td>\n",
       "    </tr>\n",
       "    <tr>\n",
       "      <th>17</th>\n",
       "      <td>sell</td>\n",
       "      <td>apartment</td>\n",
       "      <td>89681.0</td>\n",
       "      <td>USD</td>\n",
       "      <td>1359779.19</td>\n",
       "      <td>89681.00</td>\n",
       "      <td>46.0</td>\n",
       "      <td>39.0</td>\n",
       "      <td>1949.586957</td>\n",
       "      <td>2299.512821</td>\n",
       "      <td>NaN</td>\n",
       "      <td>1.0</td>\n",
       "      <td>1500.0</td>\n",
       "      <td>http://villa-del-parque.properati.com.ar/12q2f...</td>\n",
       "      <td>-34.628813</td>\n",
       "      <td>-58.472230</td>\n",
       "      <td>Villa del Parque</td>\n",
       "    </tr>\n",
       "  </tbody>\n",
       "</table>\n",
       "</div>"
      ],
      "text/plain": [
       "   operation property_type      price currency  price_aprox_local_currency  \\\n",
       "2       sell     apartment   215000.0      USD                  3259916.00   \n",
       "9       sell     apartment   341550.0      USD                  5178717.72   \n",
       "12      sell     apartment  1386000.0      ARS                  1382153.13   \n",
       "13      sell     apartment   105000.0      USD                  1592052.00   \n",
       "17      sell     apartment    89681.0      USD                  1359779.19   \n",
       "\n",
       "    price_aprox_usd  surface_total_in_m2  surface_covered_in_m2  \\\n",
       "2         215000.00                 40.0                   35.0   \n",
       "9         341550.00                  NaN                   90.0   \n",
       "12         91156.62                 39.0                   33.0   \n",
       "13        105000.00                  NaN                   33.0   \n",
       "17         89681.00                 46.0                   39.0   \n",
       "\n",
       "    price_usd_per_m2  price_per_m2  floor  rooms  expenses  \\\n",
       "2        5375.000000   6142.857143    NaN    1.0    3500.0   \n",
       "9                NaN   3795.000000    8.0    2.0       NaN   \n",
       "12       2337.349231  42000.000000    NaN    NaN       NaN   \n",
       "13               NaN   3181.818182    1.0    1.0       NaN   \n",
       "17       1949.586957   2299.512821    NaN    1.0    1500.0   \n",
       "\n",
       "                                        properati_url        lat        lon  \\\n",
       "2   http://recoleta.properati.com.ar/12j4v_venta_d... -34.588993 -58.400133   \n",
       "9   http://recoleta.properati.com.ar/100t0_venta_d... -34.588044 -58.398066   \n",
       "12  http://monserrat.properati.com.ar/t05l_venta_d... -34.623320 -58.397461   \n",
       "13  http://belgrano.properati.com.ar/zsd5_venta_de... -34.553897 -58.451939   \n",
       "17  http://villa-del-parque.properati.com.ar/12q2f... -34.628813 -58.472230   \n",
       "\n",
       "        neighborhood  \n",
       "2           Recoleta  \n",
       "9           Recoleta  \n",
       "12         Monserrat  \n",
       "13          Belgrano  \n",
       "17  Villa del Parque  "
      ]
     },
     "execution_count": 7,
     "metadata": {},
     "output_type": "execute_result"
    }
   ],
   "source": [
    "frames[0].head()"
   ]
  },
  {
   "cell_type": "code",
   "execution_count": 8,
   "id": "c2571478",
   "metadata": {
    "execution": {
     "iopub.execute_input": "2024-02-12T17:59:52.353348Z",
     "iopub.status.busy": "2024-02-12T17:59:52.352650Z",
     "iopub.status.idle": "2024-02-12T17:59:52.357692Z",
     "shell.execute_reply": "2024-02-12T17:59:52.356994Z"
    },
    "papermill": {
     "duration": 0.017786,
     "end_time": "2024-02-12T17:59:52.359620",
     "exception": false,
     "start_time": "2024-02-12T17:59:52.341834",
     "status": "completed"
    },
    "tags": []
   },
   "outputs": [],
   "source": [
    "# Check my work\n",
    "assert len(frames) == 5, f\"`frames` should contain 5 items, not {len(frames)}\"\n",
    "assert all(\n",
    "    [isinstance(frame, pd.DataFrame) for frame in frames]\n",
    "), \"The items in `frames` should all be DataFrames.\""
   ]
  },
  {
   "cell_type": "markdown",
   "id": "9c34caa7",
   "metadata": {
    "papermill": {
     "duration": 0.009103,
     "end_time": "2024-02-12T17:59:52.378094",
     "exception": false,
     "start_time": "2024-02-12T17:59:52.368991",
     "status": "completed"
    },
    "tags": []
   },
   "source": [
    "I need to then use `concatenate` to combine the `CSVs`"
   ]
  },
  {
   "cell_type": "code",
   "execution_count": 9,
   "id": "67c50a4a",
   "metadata": {
    "execution": {
     "iopub.execute_input": "2024-02-12T17:59:52.398942Z",
     "iopub.status.busy": "2024-02-12T17:59:52.398190Z",
     "iopub.status.idle": "2024-02-12T17:59:52.406959Z",
     "shell.execute_reply": "2024-02-12T17:59:52.406114Z"
    },
    "papermill": {
     "duration": 0.021697,
     "end_time": "2024-02-12T17:59:52.408966",
     "exception": false,
     "start_time": "2024-02-12T17:59:52.387269",
     "status": "completed"
    },
    "tags": []
   },
   "outputs": [
    {
     "data": {
      "text/plain": [
       "(6582, 17)"
      ]
     },
     "execution_count": 9,
     "metadata": {},
     "output_type": "execute_result"
    }
   ],
   "source": [
    "# Combining all of my dataframes using pandas\n",
    "df = pd.concat(frames, ignore_index=True)\n",
    "df.head()\n",
    "df.shape"
   ]
  },
  {
   "cell_type": "code",
   "execution_count": 10,
   "id": "6a9b9576",
   "metadata": {
    "execution": {
     "iopub.execute_input": "2024-02-12T17:59:52.430331Z",
     "iopub.status.busy": "2024-02-12T17:59:52.429718Z",
     "iopub.status.idle": "2024-02-12T17:59:52.434082Z",
     "shell.execute_reply": "2024-02-12T17:59:52.433355Z"
    },
    "papermill": {
     "duration": 0.016936,
     "end_time": "2024-02-12T17:59:52.435909",
     "exception": false,
     "start_time": "2024-02-12T17:59:52.418973",
     "status": "completed"
    },
    "tags": []
   },
   "outputs": [],
   "source": [
    "# Check my work\n",
    "assert len(df) == 6582, f\"`df` is the wrong size: {len(df)}.\""
   ]
  },
  {
   "cell_type": "markdown",
   "id": "1235b81c",
   "metadata": {
    "papermill": {
     "duration": 0.009372,
     "end_time": "2024-02-12T17:59:52.454860",
     "exception": false,
     "start_time": "2024-02-12T17:59:52.445488",
     "status": "completed"
    },
    "tags": []
   },
   "source": [
    "The next step is to `Explore` my data"
   ]
  },
  {
   "cell_type": "markdown",
   "id": "d627062a",
   "metadata": {
    "papermill": {
     "duration": 0.00933,
     "end_time": "2024-02-12T17:59:52.473666",
     "exception": false,
     "start_time": "2024-02-12T17:59:52.464336",
     "status": "completed"
    },
    "tags": []
   },
   "source": [
    "Remember, I need to modify my `neighborhood` feature. So I will go back to my `wrangle` function"
   ]
  },
  {
   "cell_type": "markdown",
   "id": "3c56507b",
   "metadata": {
    "papermill": {
     "duration": 0.009152,
     "end_time": "2024-02-12T17:59:52.492078",
     "exception": false,
     "start_time": "2024-02-12T17:59:52.482926",
     "status": "completed"
    },
    "tags": []
   },
   "source": [
    "Create your feature matrix X_train and target vector y_train. X_train should contain one feature: \"neighborhood\". Your target is \"price_aprox_usd\""
   ]
  },
  {
   "cell_type": "code",
   "execution_count": 11,
   "id": "f0dc87b5",
   "metadata": {
    "execution": {
     "iopub.execute_input": "2024-02-12T17:59:52.512718Z",
     "iopub.status.busy": "2024-02-12T17:59:52.512053Z",
     "iopub.status.idle": "2024-02-12T17:59:52.519230Z",
     "shell.execute_reply": "2024-02-12T17:59:52.518207Z"
    },
    "papermill": {
     "duration": 0.019752,
     "end_time": "2024-02-12T17:59:52.521188",
     "exception": false,
     "start_time": "2024-02-12T17:59:52.501436",
     "status": "completed"
    },
    "tags": []
   },
   "outputs": [],
   "source": [
    "target = \"price_aprox_usd\"\n",
    "features = [\"neighborhood\"]\n",
    "y_train = df[target]\n",
    "X_train = df[features]"
   ]
  },
  {
   "cell_type": "code",
   "execution_count": 12,
   "id": "3496ef61",
   "metadata": {
    "execution": {
     "iopub.execute_input": "2024-02-12T17:59:52.542275Z",
     "iopub.status.busy": "2024-02-12T17:59:52.541285Z",
     "iopub.status.idle": "2024-02-12T17:59:52.546391Z",
     "shell.execute_reply": "2024-02-12T17:59:52.545460Z"
    },
    "papermill": {
     "duration": 0.017753,
     "end_time": "2024-02-12T17:59:52.548299",
     "exception": false,
     "start_time": "2024-02-12T17:59:52.530546",
     "status": "completed"
    },
    "tags": []
   },
   "outputs": [],
   "source": [
    "# Check your work\n",
    "assert X_train.shape == (6582, 1), f\"`X_train` is the wrong size: {X_train.shape}.\"\n",
    "assert y_train.shape == (6582,), f\"`y_train` is the wrong size: {y_train.shape}.\""
   ]
  },
  {
   "cell_type": "markdown",
   "id": "38eb9f30",
   "metadata": {
    "papermill": {
     "duration": 0.00933,
     "end_time": "2024-02-12T17:59:52.567083",
     "exception": false,
     "start_time": "2024-02-12T17:59:52.557753",
     "status": "completed"
    },
    "tags": []
   },
   "source": [
    "`Build Model`"
   ]
  },
  {
   "cell_type": "markdown",
   "id": "98e967e2",
   "metadata": {
    "papermill": {
     "duration": 0.010101,
     "end_time": "2024-02-12T17:59:52.586666",
     "exception": false,
     "start_time": "2024-02-12T17:59:52.576565",
     "status": "completed"
    },
    "tags": []
   },
   "source": [
    "I will start with the `baseline`"
   ]
  },
  {
   "cell_type": "code",
   "execution_count": 13,
   "id": "7d54d23b",
   "metadata": {
    "execution": {
     "iopub.execute_input": "2024-02-12T17:59:52.607882Z",
     "iopub.status.busy": "2024-02-12T17:59:52.607514Z",
     "iopub.status.idle": "2024-02-12T17:59:52.615235Z",
     "shell.execute_reply": "2024-02-12T17:59:52.613943Z"
    },
    "papermill": {
     "duration": 0.020344,
     "end_time": "2024-02-12T17:59:52.617150",
     "exception": false,
     "start_time": "2024-02-12T17:59:52.596806",
     "status": "completed"
    },
    "tags": []
   },
   "outputs": [
    {
     "name": "stdout",
     "output_type": "stream",
     "text": [
      "Mean apt price: 132383.83701458524\n",
      "Baseline MAE: Baseline MAE: 44860.10834274133\n"
     ]
    }
   ],
   "source": [
    "# I will start with the baseline\n",
    "y_mean = y_train.mean()\n",
    "y_pred_baseline = [y_mean] * len(y_train)\n",
    "print(\"Mean apt price:\", y_mean)\n",
    "\n",
    "print(\"Baseline MAE:\", \"Baseline MAE:\", mean_absolute_error(y_train, y_pred_baseline))"
   ]
  },
  {
   "cell_type": "markdown",
   "id": "87e0c373",
   "metadata": {
    "papermill": {
     "duration": 0.009466,
     "end_time": "2024-02-12T17:59:52.636008",
     "exception": false,
     "start_time": "2024-02-12T17:59:52.626542",
     "status": "completed"
    },
    "tags": []
   },
   "source": [
    "`Iterate`"
   ]
  },
  {
   "cell_type": "markdown",
   "id": "0392eede",
   "metadata": {
    "papermill": {
     "duration": 0.00948,
     "end_time": "2024-02-12T17:59:52.654957",
     "exception": false,
     "start_time": "2024-02-12T17:59:52.645477",
     "status": "completed"
    },
    "tags": []
   },
   "source": [
    "I will have to encode my `neighborhood` to make it numerical and I will use `OneHotEncoder`"
   ]
  },
  {
   "cell_type": "markdown",
   "id": "20bd390c",
   "metadata": {
    "papermill": {
     "duration": 0.009839,
     "end_time": "2024-02-12T17:59:52.674322",
     "exception": false,
     "start_time": "2024-02-12T17:59:52.664483",
     "status": "completed"
    },
    "tags": []
   },
   "source": [
    " First, instantiate a OneHotEncoder named ohe. Make sure to set the use_cat_names argument to True. Next, fit your transformer to the feature matrix X_train. Finally, use your encoder to transform the feature matrix X_train, and assign the transformed data to the variable XT_train."
   ]
  },
  {
   "cell_type": "code",
   "execution_count": 14,
   "id": "4127bbd7",
   "metadata": {
    "execution": {
     "iopub.execute_input": "2024-02-12T17:59:52.695835Z",
     "iopub.status.busy": "2024-02-12T17:59:52.694989Z",
     "iopub.status.idle": "2024-02-12T17:59:52.746432Z",
     "shell.execute_reply": "2024-02-12T17:59:52.745672Z"
    },
    "papermill": {
     "duration": 0.064601,
     "end_time": "2024-02-12T17:59:52.748534",
     "exception": false,
     "start_time": "2024-02-12T17:59:52.683933",
     "status": "completed"
    },
    "tags": []
   },
   "outputs": [
    {
     "name": "stdout",
     "output_type": "stream",
     "text": [
      "(6582, 57)\n"
     ]
    },
    {
     "data": {
      "text/html": [
       "<div>\n",
       "<style scoped>\n",
       "    .dataframe tbody tr th:only-of-type {\n",
       "        vertical-align: middle;\n",
       "    }\n",
       "\n",
       "    .dataframe tbody tr th {\n",
       "        vertical-align: top;\n",
       "    }\n",
       "\n",
       "    .dataframe thead th {\n",
       "        text-align: right;\n",
       "    }\n",
       "</style>\n",
       "<table border=\"1\" class=\"dataframe\">\n",
       "  <thead>\n",
       "    <tr style=\"text-align: right;\">\n",
       "      <th></th>\n",
       "      <th>neighborhood_Recoleta</th>\n",
       "      <th>neighborhood_Monserrat</th>\n",
       "      <th>neighborhood_Belgrano</th>\n",
       "      <th>neighborhood_Villa del Parque</th>\n",
       "      <th>neighborhood_Villa Pueyrredón</th>\n",
       "      <th>neighborhood_Almagro</th>\n",
       "      <th>neighborhood_Palermo</th>\n",
       "      <th>neighborhood_</th>\n",
       "      <th>neighborhood_Tribunales</th>\n",
       "      <th>neighborhood_Balvanera</th>\n",
       "      <th>...</th>\n",
       "      <th>neighborhood_Velez Sarsfield</th>\n",
       "      <th>neighborhood_Monte Castro</th>\n",
       "      <th>neighborhood_Las Cañitas</th>\n",
       "      <th>neighborhood_Constitución</th>\n",
       "      <th>neighborhood_Parque Avellaneda</th>\n",
       "      <th>neighborhood_Villa Soldati</th>\n",
       "      <th>neighborhood_Versalles</th>\n",
       "      <th>neighborhood_Pompeya</th>\n",
       "      <th>neighborhood_Villa Real</th>\n",
       "      <th>neighborhood_Catalinas</th>\n",
       "    </tr>\n",
       "  </thead>\n",
       "  <tbody>\n",
       "    <tr>\n",
       "      <th>0</th>\n",
       "      <td>1</td>\n",
       "      <td>0</td>\n",
       "      <td>0</td>\n",
       "      <td>0</td>\n",
       "      <td>0</td>\n",
       "      <td>0</td>\n",
       "      <td>0</td>\n",
       "      <td>0</td>\n",
       "      <td>0</td>\n",
       "      <td>0</td>\n",
       "      <td>...</td>\n",
       "      <td>0</td>\n",
       "      <td>0</td>\n",
       "      <td>0</td>\n",
       "      <td>0</td>\n",
       "      <td>0</td>\n",
       "      <td>0</td>\n",
       "      <td>0</td>\n",
       "      <td>0</td>\n",
       "      <td>0</td>\n",
       "      <td>0</td>\n",
       "    </tr>\n",
       "    <tr>\n",
       "      <th>1</th>\n",
       "      <td>1</td>\n",
       "      <td>0</td>\n",
       "      <td>0</td>\n",
       "      <td>0</td>\n",
       "      <td>0</td>\n",
       "      <td>0</td>\n",
       "      <td>0</td>\n",
       "      <td>0</td>\n",
       "      <td>0</td>\n",
       "      <td>0</td>\n",
       "      <td>...</td>\n",
       "      <td>0</td>\n",
       "      <td>0</td>\n",
       "      <td>0</td>\n",
       "      <td>0</td>\n",
       "      <td>0</td>\n",
       "      <td>0</td>\n",
       "      <td>0</td>\n",
       "      <td>0</td>\n",
       "      <td>0</td>\n",
       "      <td>0</td>\n",
       "    </tr>\n",
       "    <tr>\n",
       "      <th>2</th>\n",
       "      <td>0</td>\n",
       "      <td>1</td>\n",
       "      <td>0</td>\n",
       "      <td>0</td>\n",
       "      <td>0</td>\n",
       "      <td>0</td>\n",
       "      <td>0</td>\n",
       "      <td>0</td>\n",
       "      <td>0</td>\n",
       "      <td>0</td>\n",
       "      <td>...</td>\n",
       "      <td>0</td>\n",
       "      <td>0</td>\n",
       "      <td>0</td>\n",
       "      <td>0</td>\n",
       "      <td>0</td>\n",
       "      <td>0</td>\n",
       "      <td>0</td>\n",
       "      <td>0</td>\n",
       "      <td>0</td>\n",
       "      <td>0</td>\n",
       "    </tr>\n",
       "    <tr>\n",
       "      <th>3</th>\n",
       "      <td>0</td>\n",
       "      <td>0</td>\n",
       "      <td>1</td>\n",
       "      <td>0</td>\n",
       "      <td>0</td>\n",
       "      <td>0</td>\n",
       "      <td>0</td>\n",
       "      <td>0</td>\n",
       "      <td>0</td>\n",
       "      <td>0</td>\n",
       "      <td>...</td>\n",
       "      <td>0</td>\n",
       "      <td>0</td>\n",
       "      <td>0</td>\n",
       "      <td>0</td>\n",
       "      <td>0</td>\n",
       "      <td>0</td>\n",
       "      <td>0</td>\n",
       "      <td>0</td>\n",
       "      <td>0</td>\n",
       "      <td>0</td>\n",
       "    </tr>\n",
       "    <tr>\n",
       "      <th>4</th>\n",
       "      <td>0</td>\n",
       "      <td>0</td>\n",
       "      <td>0</td>\n",
       "      <td>1</td>\n",
       "      <td>0</td>\n",
       "      <td>0</td>\n",
       "      <td>0</td>\n",
       "      <td>0</td>\n",
       "      <td>0</td>\n",
       "      <td>0</td>\n",
       "      <td>...</td>\n",
       "      <td>0</td>\n",
       "      <td>0</td>\n",
       "      <td>0</td>\n",
       "      <td>0</td>\n",
       "      <td>0</td>\n",
       "      <td>0</td>\n",
       "      <td>0</td>\n",
       "      <td>0</td>\n",
       "      <td>0</td>\n",
       "      <td>0</td>\n",
       "    </tr>\n",
       "    <tr>\n",
       "      <th>...</th>\n",
       "      <td>...</td>\n",
       "      <td>...</td>\n",
       "      <td>...</td>\n",
       "      <td>...</td>\n",
       "      <td>...</td>\n",
       "      <td>...</td>\n",
       "      <td>...</td>\n",
       "      <td>...</td>\n",
       "      <td>...</td>\n",
       "      <td>...</td>\n",
       "      <td>...</td>\n",
       "      <td>...</td>\n",
       "      <td>...</td>\n",
       "      <td>...</td>\n",
       "      <td>...</td>\n",
       "      <td>...</td>\n",
       "      <td>...</td>\n",
       "      <td>...</td>\n",
       "      <td>...</td>\n",
       "      <td>...</td>\n",
       "      <td>...</td>\n",
       "    </tr>\n",
       "    <tr>\n",
       "      <th>6577</th>\n",
       "      <td>0</td>\n",
       "      <td>0</td>\n",
       "      <td>0</td>\n",
       "      <td>0</td>\n",
       "      <td>0</td>\n",
       "      <td>0</td>\n",
       "      <td>0</td>\n",
       "      <td>0</td>\n",
       "      <td>0</td>\n",
       "      <td>0</td>\n",
       "      <td>...</td>\n",
       "      <td>0</td>\n",
       "      <td>0</td>\n",
       "      <td>0</td>\n",
       "      <td>0</td>\n",
       "      <td>0</td>\n",
       "      <td>0</td>\n",
       "      <td>0</td>\n",
       "      <td>0</td>\n",
       "      <td>0</td>\n",
       "      <td>0</td>\n",
       "    </tr>\n",
       "    <tr>\n",
       "      <th>6578</th>\n",
       "      <td>0</td>\n",
       "      <td>0</td>\n",
       "      <td>0</td>\n",
       "      <td>0</td>\n",
       "      <td>0</td>\n",
       "      <td>0</td>\n",
       "      <td>0</td>\n",
       "      <td>0</td>\n",
       "      <td>0</td>\n",
       "      <td>0</td>\n",
       "      <td>...</td>\n",
       "      <td>0</td>\n",
       "      <td>0</td>\n",
       "      <td>0</td>\n",
       "      <td>0</td>\n",
       "      <td>0</td>\n",
       "      <td>0</td>\n",
       "      <td>0</td>\n",
       "      <td>0</td>\n",
       "      <td>0</td>\n",
       "      <td>0</td>\n",
       "    </tr>\n",
       "    <tr>\n",
       "      <th>6579</th>\n",
       "      <td>0</td>\n",
       "      <td>0</td>\n",
       "      <td>0</td>\n",
       "      <td>0</td>\n",
       "      <td>0</td>\n",
       "      <td>0</td>\n",
       "      <td>0</td>\n",
       "      <td>0</td>\n",
       "      <td>0</td>\n",
       "      <td>0</td>\n",
       "      <td>...</td>\n",
       "      <td>0</td>\n",
       "      <td>0</td>\n",
       "      <td>0</td>\n",
       "      <td>0</td>\n",
       "      <td>0</td>\n",
       "      <td>0</td>\n",
       "      <td>0</td>\n",
       "      <td>0</td>\n",
       "      <td>0</td>\n",
       "      <td>0</td>\n",
       "    </tr>\n",
       "    <tr>\n",
       "      <th>6580</th>\n",
       "      <td>0</td>\n",
       "      <td>0</td>\n",
       "      <td>0</td>\n",
       "      <td>0</td>\n",
       "      <td>0</td>\n",
       "      <td>0</td>\n",
       "      <td>1</td>\n",
       "      <td>0</td>\n",
       "      <td>0</td>\n",
       "      <td>0</td>\n",
       "      <td>...</td>\n",
       "      <td>0</td>\n",
       "      <td>0</td>\n",
       "      <td>0</td>\n",
       "      <td>0</td>\n",
       "      <td>0</td>\n",
       "      <td>0</td>\n",
       "      <td>0</td>\n",
       "      <td>0</td>\n",
       "      <td>0</td>\n",
       "      <td>0</td>\n",
       "    </tr>\n",
       "    <tr>\n",
       "      <th>6581</th>\n",
       "      <td>0</td>\n",
       "      <td>0</td>\n",
       "      <td>0</td>\n",
       "      <td>0</td>\n",
       "      <td>0</td>\n",
       "      <td>0</td>\n",
       "      <td>0</td>\n",
       "      <td>0</td>\n",
       "      <td>0</td>\n",
       "      <td>0</td>\n",
       "      <td>...</td>\n",
       "      <td>0</td>\n",
       "      <td>0</td>\n",
       "      <td>0</td>\n",
       "      <td>0</td>\n",
       "      <td>0</td>\n",
       "      <td>0</td>\n",
       "      <td>0</td>\n",
       "      <td>0</td>\n",
       "      <td>0</td>\n",
       "      <td>0</td>\n",
       "    </tr>\n",
       "  </tbody>\n",
       "</table>\n",
       "<p>6582 rows × 57 columns</p>\n",
       "</div>"
      ],
      "text/plain": [
       "      neighborhood_Recoleta  neighborhood_Monserrat  neighborhood_Belgrano  \\\n",
       "0                         1                       0                      0   \n",
       "1                         1                       0                      0   \n",
       "2                         0                       1                      0   \n",
       "3                         0                       0                      1   \n",
       "4                         0                       0                      0   \n",
       "...                     ...                     ...                    ...   \n",
       "6577                      0                       0                      0   \n",
       "6578                      0                       0                      0   \n",
       "6579                      0                       0                      0   \n",
       "6580                      0                       0                      0   \n",
       "6581                      0                       0                      0   \n",
       "\n",
       "      neighborhood_Villa del Parque  neighborhood_Villa Pueyrredón  \\\n",
       "0                                 0                              0   \n",
       "1                                 0                              0   \n",
       "2                                 0                              0   \n",
       "3                                 0                              0   \n",
       "4                                 1                              0   \n",
       "...                             ...                            ...   \n",
       "6577                              0                              0   \n",
       "6578                              0                              0   \n",
       "6579                              0                              0   \n",
       "6580                              0                              0   \n",
       "6581                              0                              0   \n",
       "\n",
       "      neighborhood_Almagro  neighborhood_Palermo  neighborhood_  \\\n",
       "0                        0                     0              0   \n",
       "1                        0                     0              0   \n",
       "2                        0                     0              0   \n",
       "3                        0                     0              0   \n",
       "4                        0                     0              0   \n",
       "...                    ...                   ...            ...   \n",
       "6577                     0                     0              0   \n",
       "6578                     0                     0              0   \n",
       "6579                     0                     0              0   \n",
       "6580                     0                     1              0   \n",
       "6581                     0                     0              0   \n",
       "\n",
       "      neighborhood_Tribunales  neighborhood_Balvanera  ...  \\\n",
       "0                           0                       0  ...   \n",
       "1                           0                       0  ...   \n",
       "2                           0                       0  ...   \n",
       "3                           0                       0  ...   \n",
       "4                           0                       0  ...   \n",
       "...                       ...                     ...  ...   \n",
       "6577                        0                       0  ...   \n",
       "6578                        0                       0  ...   \n",
       "6579                        0                       0  ...   \n",
       "6580                        0                       0  ...   \n",
       "6581                        0                       0  ...   \n",
       "\n",
       "      neighborhood_Velez Sarsfield  neighborhood_Monte Castro  \\\n",
       "0                                0                          0   \n",
       "1                                0                          0   \n",
       "2                                0                          0   \n",
       "3                                0                          0   \n",
       "4                                0                          0   \n",
       "...                            ...                        ...   \n",
       "6577                             0                          0   \n",
       "6578                             0                          0   \n",
       "6579                             0                          0   \n",
       "6580                             0                          0   \n",
       "6581                             0                          0   \n",
       "\n",
       "      neighborhood_Las Cañitas  neighborhood_Constitución  \\\n",
       "0                            0                          0   \n",
       "1                            0                          0   \n",
       "2                            0                          0   \n",
       "3                            0                          0   \n",
       "4                            0                          0   \n",
       "...                        ...                        ...   \n",
       "6577                         0                          0   \n",
       "6578                         0                          0   \n",
       "6579                         0                          0   \n",
       "6580                         0                          0   \n",
       "6581                         0                          0   \n",
       "\n",
       "      neighborhood_Parque Avellaneda  neighborhood_Villa Soldati  \\\n",
       "0                                  0                           0   \n",
       "1                                  0                           0   \n",
       "2                                  0                           0   \n",
       "3                                  0                           0   \n",
       "4                                  0                           0   \n",
       "...                              ...                         ...   \n",
       "6577                               0                           0   \n",
       "6578                               0                           0   \n",
       "6579                               0                           0   \n",
       "6580                               0                           0   \n",
       "6581                               0                           0   \n",
       "\n",
       "      neighborhood_Versalles  neighborhood_Pompeya  neighborhood_Villa Real  \\\n",
       "0                          0                     0                        0   \n",
       "1                          0                     0                        0   \n",
       "2                          0                     0                        0   \n",
       "3                          0                     0                        0   \n",
       "4                          0                     0                        0   \n",
       "...                      ...                   ...                      ...   \n",
       "6577                       0                     0                        0   \n",
       "6578                       0                     0                        0   \n",
       "6579                       0                     0                        0   \n",
       "6580                       0                     0                        0   \n",
       "6581                       0                     0                        0   \n",
       "\n",
       "      neighborhood_Catalinas  \n",
       "0                          0  \n",
       "1                          0  \n",
       "2                          0  \n",
       "3                          0  \n",
       "4                          0  \n",
       "...                      ...  \n",
       "6577                       0  \n",
       "6578                       0  \n",
       "6579                       0  \n",
       "6580                       0  \n",
       "6581                       0  \n",
       "\n",
       "[6582 rows x 57 columns]"
      ]
     },
     "execution_count": 14,
     "metadata": {},
     "output_type": "execute_result"
    }
   ],
   "source": [
    "# Instantiate\n",
    "ohe = OneHotEncoder(use_cat_names=True)\n",
    "\n",
    "# Fit\n",
    "ohe.fit(X_train)\n",
    "\n",
    "# Transform\n",
    "XT_train = ohe.transform(X_train)\n",
    "print(XT_train.shape)\n",
    "XT_train"
   ]
  },
  {
   "cell_type": "code",
   "execution_count": 15,
   "id": "9c5ccf86",
   "metadata": {
    "execution": {
     "iopub.execute_input": "2024-02-12T17:59:52.771002Z",
     "iopub.status.busy": "2024-02-12T17:59:52.770101Z",
     "iopub.status.idle": "2024-02-12T17:59:52.774439Z",
     "shell.execute_reply": "2024-02-12T17:59:52.773746Z"
    },
    "papermill": {
     "duration": 0.01753,
     "end_time": "2024-02-12T17:59:52.776340",
     "exception": false,
     "start_time": "2024-02-12T17:59:52.758810",
     "status": "completed"
    },
    "tags": []
   },
   "outputs": [],
   "source": [
    "# Check your work\n",
    "assert XT_train.shape == (6582, 57), f\"`XT_train` is the wrong shape: {XT_train.shape}\""
   ]
  },
  {
   "cell_type": "markdown",
   "id": "cbc89e62",
   "metadata": {
    "papermill": {
     "duration": 0.010079,
     "end_time": "2024-02-12T17:59:52.796732",
     "exception": false,
     "start_time": "2024-02-12T17:59:52.786653",
     "status": "completed"
    },
    "tags": []
   },
   "source": [
    "Create a pipeline named `model` that contains a `OneHotEncoder` transformer and a `Ridge` predictor. Then fit your model to the training data."
   ]
  },
  {
   "cell_type": "code",
   "execution_count": 16,
   "id": "c41e8eaa",
   "metadata": {
    "execution": {
     "iopub.execute_input": "2024-02-12T17:59:52.818829Z",
     "iopub.status.busy": "2024-02-12T17:59:52.818233Z",
     "iopub.status.idle": "2024-02-12T17:59:52.883579Z",
     "shell.execute_reply": "2024-02-12T17:59:52.882497Z"
    },
    "papermill": {
     "duration": 0.079368,
     "end_time": "2024-02-12T17:59:52.886324",
     "exception": false,
     "start_time": "2024-02-12T17:59:52.806956",
     "status": "completed"
    },
    "tags": []
   },
   "outputs": [
    {
     "data": {
      "text/html": [
       "<style>#sk-container-id-1 {color: black;background-color: white;}#sk-container-id-1 pre{padding: 0;}#sk-container-id-1 div.sk-toggleable {background-color: white;}#sk-container-id-1 label.sk-toggleable__label {cursor: pointer;display: block;width: 100%;margin-bottom: 0;padding: 0.3em;box-sizing: border-box;text-align: center;}#sk-container-id-1 label.sk-toggleable__label-arrow:before {content: \"▸\";float: left;margin-right: 0.25em;color: #696969;}#sk-container-id-1 label.sk-toggleable__label-arrow:hover:before {color: black;}#sk-container-id-1 div.sk-estimator:hover label.sk-toggleable__label-arrow:before {color: black;}#sk-container-id-1 div.sk-toggleable__content {max-height: 0;max-width: 0;overflow: hidden;text-align: left;background-color: #f0f8ff;}#sk-container-id-1 div.sk-toggleable__content pre {margin: 0.2em;color: black;border-radius: 0.25em;background-color: #f0f8ff;}#sk-container-id-1 input.sk-toggleable__control:checked~div.sk-toggleable__content {max-height: 200px;max-width: 100%;overflow: auto;}#sk-container-id-1 input.sk-toggleable__control:checked~label.sk-toggleable__label-arrow:before {content: \"▾\";}#sk-container-id-1 div.sk-estimator input.sk-toggleable__control:checked~label.sk-toggleable__label {background-color: #d4ebff;}#sk-container-id-1 div.sk-label input.sk-toggleable__control:checked~label.sk-toggleable__label {background-color: #d4ebff;}#sk-container-id-1 input.sk-hidden--visually {border: 0;clip: rect(1px 1px 1px 1px);clip: rect(1px, 1px, 1px, 1px);height: 1px;margin: -1px;overflow: hidden;padding: 0;position: absolute;width: 1px;}#sk-container-id-1 div.sk-estimator {font-family: monospace;background-color: #f0f8ff;border: 1px dotted black;border-radius: 0.25em;box-sizing: border-box;margin-bottom: 0.5em;}#sk-container-id-1 div.sk-estimator:hover {background-color: #d4ebff;}#sk-container-id-1 div.sk-parallel-item::after {content: \"\";width: 100%;border-bottom: 1px solid gray;flex-grow: 1;}#sk-container-id-1 div.sk-label:hover label.sk-toggleable__label {background-color: #d4ebff;}#sk-container-id-1 div.sk-serial::before {content: \"\";position: absolute;border-left: 1px solid gray;box-sizing: border-box;top: 0;bottom: 0;left: 50%;z-index: 0;}#sk-container-id-1 div.sk-serial {display: flex;flex-direction: column;align-items: center;background-color: white;padding-right: 0.2em;padding-left: 0.2em;position: relative;}#sk-container-id-1 div.sk-item {position: relative;z-index: 1;}#sk-container-id-1 div.sk-parallel {display: flex;align-items: stretch;justify-content: center;background-color: white;position: relative;}#sk-container-id-1 div.sk-item::before, #sk-container-id-1 div.sk-parallel-item::before {content: \"\";position: absolute;border-left: 1px solid gray;box-sizing: border-box;top: 0;bottom: 0;left: 50%;z-index: -1;}#sk-container-id-1 div.sk-parallel-item {display: flex;flex-direction: column;z-index: 1;position: relative;background-color: white;}#sk-container-id-1 div.sk-parallel-item:first-child::after {align-self: flex-end;width: 50%;}#sk-container-id-1 div.sk-parallel-item:last-child::after {align-self: flex-start;width: 50%;}#sk-container-id-1 div.sk-parallel-item:only-child::after {width: 0;}#sk-container-id-1 div.sk-dashed-wrapped {border: 1px dashed gray;margin: 0 0.4em 0.5em 0.4em;box-sizing: border-box;padding-bottom: 0.4em;background-color: white;}#sk-container-id-1 div.sk-label label {font-family: monospace;font-weight: bold;display: inline-block;line-height: 1.2em;}#sk-container-id-1 div.sk-label-container {text-align: center;}#sk-container-id-1 div.sk-container {/* jupyter's `normalize.less` sets `[hidden] { display: none; }` but bootstrap.min.css set `[hidden] { display: none !important; }` so we also need the `!important` here to be able to override the default hidden behavior on the sphinx rendered scikit-learn.org. See: https://github.com/scikit-learn/scikit-learn/issues/21755 */display: inline-block !important;position: relative;}#sk-container-id-1 div.sk-text-repr-fallback {display: none;}</style><div id=\"sk-container-id-1\" class=\"sk-top-container\"><div class=\"sk-text-repr-fallback\"><pre>Pipeline(steps=[(&#x27;onehotencoder&#x27;,\n",
       "                 OneHotEncoder(cols=[&#x27;neighborhood&#x27;], use_cat_names=True)),\n",
       "                (&#x27;ridge&#x27;, Ridge())])</pre><b>In a Jupyter environment, please rerun this cell to show the HTML representation or trust the notebook. <br />On GitHub, the HTML representation is unable to render, please try loading this page with nbviewer.org.</b></div><div class=\"sk-container\" hidden><div class=\"sk-item sk-dashed-wrapped\"><div class=\"sk-label-container\"><div class=\"sk-label sk-toggleable\"><input class=\"sk-toggleable__control sk-hidden--visually\" id=\"sk-estimator-id-1\" type=\"checkbox\" ><label for=\"sk-estimator-id-1\" class=\"sk-toggleable__label sk-toggleable__label-arrow\">Pipeline</label><div class=\"sk-toggleable__content\"><pre>Pipeline(steps=[(&#x27;onehotencoder&#x27;,\n",
       "                 OneHotEncoder(cols=[&#x27;neighborhood&#x27;], use_cat_names=True)),\n",
       "                (&#x27;ridge&#x27;, Ridge())])</pre></div></div></div><div class=\"sk-serial\"><div class=\"sk-item\"><div class=\"sk-estimator sk-toggleable\"><input class=\"sk-toggleable__control sk-hidden--visually\" id=\"sk-estimator-id-2\" type=\"checkbox\" ><label for=\"sk-estimator-id-2\" class=\"sk-toggleable__label sk-toggleable__label-arrow\">OneHotEncoder</label><div class=\"sk-toggleable__content\"><pre>OneHotEncoder(cols=[&#x27;neighborhood&#x27;], use_cat_names=True)</pre></div></div></div><div class=\"sk-item\"><div class=\"sk-estimator sk-toggleable\"><input class=\"sk-toggleable__control sk-hidden--visually\" id=\"sk-estimator-id-3\" type=\"checkbox\" ><label for=\"sk-estimator-id-3\" class=\"sk-toggleable__label sk-toggleable__label-arrow\">Ridge</label><div class=\"sk-toggleable__content\"><pre>Ridge()</pre></div></div></div></div></div></div></div>"
      ],
      "text/plain": [
       "Pipeline(steps=[('onehotencoder',\n",
       "                 OneHotEncoder(cols=['neighborhood'], use_cat_names=True)),\n",
       "                ('ridge', Ridge())])"
      ]
     },
     "execution_count": 16,
     "metadata": {},
     "output_type": "execute_result"
    }
   ],
   "source": [
    "model = make_pipeline(\n",
    "    OneHotEncoder(use_cat_names=True),\n",
    "    # Ridge will help in sorting the `Curse of Dimensionality`\n",
    "    Ridge()\n",
    ")\n",
    "model.fit(X_train, y_train)"
   ]
  },
  {
   "cell_type": "code",
   "execution_count": 17,
   "id": "01b67b97",
   "metadata": {
    "execution": {
     "iopub.execute_input": "2024-02-12T17:59:52.925153Z",
     "iopub.status.busy": "2024-02-12T17:59:52.924541Z",
     "iopub.status.idle": "2024-02-12T17:59:52.930168Z",
     "shell.execute_reply": "2024-02-12T17:59:52.929092Z"
    },
    "papermill": {
     "duration": 0.027855,
     "end_time": "2024-02-12T17:59:52.932776",
     "exception": false,
     "start_time": "2024-02-12T17:59:52.904921",
     "status": "completed"
    },
    "tags": []
   },
   "outputs": [],
   "source": [
    "# Check your work\n",
    "check_is_fitted(model[-1])"
   ]
  },
  {
   "cell_type": "markdown",
   "id": "5cb8c74f",
   "metadata": {
    "papermill": {
     "duration": 0.017922,
     "end_time": "2024-02-12T17:59:52.969008",
     "exception": false,
     "start_time": "2024-02-12T17:59:52.951086",
     "status": "completed"
    },
    "tags": []
   },
   "source": [
    "`Evaluate`"
   ]
  },
  {
   "cell_type": "markdown",
   "id": "421f2f2b",
   "metadata": {
    "papermill": {
     "duration": 0.059378,
     "end_time": "2024-02-12T17:59:53.042323",
     "exception": false,
     "start_time": "2024-02-12T17:59:52.982945",
     "status": "completed"
    },
    "tags": []
   },
   "source": [
    "First, create a list of predictions for the observations in your feature matrix X_train. Name this list y_pred_training. Then calculate the training mean absolute error for your predictions in y_pred_training as compared to the true targets in y_train."
   ]
  },
  {
   "cell_type": "code",
   "execution_count": 18,
   "id": "3b852092",
   "metadata": {
    "execution": {
     "iopub.execute_input": "2024-02-12T17:59:53.065110Z",
     "iopub.status.busy": "2024-02-12T17:59:53.064732Z",
     "iopub.status.idle": "2024-02-12T17:59:53.085866Z",
     "shell.execute_reply": "2024-02-12T17:59:53.084841Z"
    },
    "papermill": {
     "duration": 0.035563,
     "end_time": "2024-02-12T17:59:53.088584",
     "exception": false,
     "start_time": "2024-02-12T17:59:53.053021",
     "status": "completed"
    },
    "tags": []
   },
   "outputs": [
    {
     "name": "stdout",
     "output_type": "stream",
     "text": [
      "Training MAE: 39350.22\n"
     ]
    }
   ],
   "source": [
    "y_pred_training = model.predict(X_train)\n",
    "mae_training = mean_absolute_error(y_train, y_pred_training)\n",
    "print(\"Training MAE:\", round(mae_training, 2))"
   ]
  },
  {
   "cell_type": "markdown",
   "id": "2a48c71e",
   "metadata": {
    "papermill": {
     "duration": 0.017695,
     "end_time": "2024-02-12T17:59:53.124558",
     "exception": false,
     "start_time": "2024-02-12T17:59:53.106863",
     "status": "completed"
    },
    "tags": []
   },
   "source": [
    "`Communicate Results`"
   ]
  },
  {
   "cell_type": "markdown",
   "id": "6208cd4a",
   "metadata": {
    "papermill": {
     "duration": 0.018308,
     "end_time": "2024-02-12T17:59:53.161075",
     "exception": false,
     "start_time": "2024-02-12T17:59:53.142767",
     "status": "completed"
    },
    "tags": []
   },
   "source": [
    "Extract the intercept and coefficients for your model."
   ]
  },
  {
   "cell_type": "code",
   "execution_count": 19,
   "id": "a30b407e",
   "metadata": {
    "execution": {
     "iopub.execute_input": "2024-02-12T17:59:53.199700Z",
     "iopub.status.busy": "2024-02-12T17:59:53.199082Z",
     "iopub.status.idle": "2024-02-12T17:59:53.204885Z",
     "shell.execute_reply": "2024-02-12T17:59:53.204113Z"
    },
    "papermill": {
     "duration": 0.027896,
     "end_time": "2024-02-12T17:59:53.207395",
     "exception": false,
     "start_time": "2024-02-12T17:59:53.179499",
     "status": "completed"
    },
    "tags": []
   },
   "outputs": [
    {
     "name": "stdout",
     "output_type": "stream",
     "text": [
      "coefficients len: 57\n",
      "[ 72740.78075637 -20292.59601283  46954.20800905 -12595.50084744\n",
      "  -8093.45014804]\n"
     ]
    }
   ],
   "source": [
    "intercept = model.named_steps[\"ridge\"].intercept_\n",
    "coefficients = model.named_steps[\"ridge\"].coef_\n",
    "print(\"coefficients len:\", len(coefficients))\n",
    "print(coefficients[:5])  # First five coefficients"
   ]
  },
  {
   "cell_type": "code",
   "execution_count": 20,
   "id": "bd0d2d37",
   "metadata": {
    "execution": {
     "iopub.execute_input": "2024-02-12T17:59:53.230636Z",
     "iopub.status.busy": "2024-02-12T17:59:53.230018Z",
     "iopub.status.idle": "2024-02-12T17:59:53.234328Z",
     "shell.execute_reply": "2024-02-12T17:59:53.233681Z"
    },
    "papermill": {
     "duration": 0.017975,
     "end_time": "2024-02-12T17:59:53.236107",
     "exception": false,
     "start_time": "2024-02-12T17:59:53.218132",
     "status": "completed"
    },
    "tags": []
   },
   "outputs": [],
   "source": [
    "# Check my work\n",
    "assert isinstance(\n",
    "    intercept, float\n",
    "), f\"`intercept` should be a `float`, not {type(intercept)}.\"\n",
    "assert isinstance(\n",
    "    coefficients, np.ndarray\n",
    "), f\"`coefficients` should be a `float`, not {type(coefficients)}.\"\n",
    "assert coefficients.shape == (\n",
    "    57,\n",
    "), f\"`coefficients` is wrong shape: {coefficients.shape}.\""
   ]
  },
  {
   "cell_type": "markdown",
   "id": "486359a4",
   "metadata": {
    "papermill": {
     "duration": 0.010528,
     "end_time": "2024-02-12T17:59:53.257474",
     "exception": false,
     "start_time": "2024-02-12T17:59:53.246946",
     "status": "completed"
    },
    "tags": []
   },
   "source": [
    " Extract the feature names of your encoded data from the `OneHotEncoder` in your model."
   ]
  },
  {
   "cell_type": "code",
   "execution_count": 21,
   "id": "83e7a5a8",
   "metadata": {
    "execution": {
     "iopub.execute_input": "2024-02-12T17:59:53.280709Z",
     "iopub.status.busy": "2024-02-12T17:59:53.280031Z",
     "iopub.status.idle": "2024-02-12T17:59:53.285698Z",
     "shell.execute_reply": "2024-02-12T17:59:53.284625Z"
    },
    "papermill": {
     "duration": 0.019563,
     "end_time": "2024-02-12T17:59:53.287627",
     "exception": false,
     "start_time": "2024-02-12T17:59:53.268064",
     "status": "completed"
    },
    "tags": []
   },
   "outputs": [
    {
     "name": "stdout",
     "output_type": "stream",
     "text": [
      "features len: 57\n",
      "['neighborhood_Recoleta' 'neighborhood_Monserrat' 'neighborhood_Belgrano'\n",
      " 'neighborhood_Villa del Parque' 'neighborhood_Villa Pueyrredón']\n"
     ]
    }
   ],
   "source": [
    "feature_names = model.named_steps[\"onehotencoder\"].get_feature_names()\n",
    "print(\"features len:\", len(feature_names))\n",
    "print(feature_names[:5])  # First five feature names"
   ]
  },
  {
   "cell_type": "code",
   "execution_count": 22,
   "id": "def191f0",
   "metadata": {
    "execution": {
     "iopub.execute_input": "2024-02-12T17:59:53.310851Z",
     "iopub.status.busy": "2024-02-12T17:59:53.310490Z",
     "iopub.status.idle": "2024-02-12T17:59:53.315325Z",
     "shell.execute_reply": "2024-02-12T17:59:53.314412Z"
    },
    "papermill": {
     "duration": 0.018773,
     "end_time": "2024-02-12T17:59:53.317278",
     "exception": false,
     "start_time": "2024-02-12T17:59:53.298505",
     "status": "completed"
    },
    "tags": []
   },
   "outputs": [],
   "source": [
    "# Check my work\n",
    "assert isinstance(\n",
    "    feature_names, np.ndarray\n",
    "), f\"`features` should be a `list`, not {type(feature_names)}.\"\n",
    "assert len(feature_names) == len(\n",
    "    coefficients\n",
    "), \"You should have the same number of features and coefficients.\""
   ]
  },
  {
   "cell_type": "markdown",
   "id": "71864cf2",
   "metadata": {
    "papermill": {
     "duration": 0.010525,
     "end_time": "2024-02-12T17:59:53.338730",
     "exception": false,
     "start_time": "2024-02-12T17:59:53.328205",
     "status": "completed"
    },
    "tags": []
   },
   "source": [
    "Create a pandas Series named `feat_imp` where the index is your features and the values are your coefficients"
   ]
  },
  {
   "cell_type": "code",
   "execution_count": 23,
   "id": "d5ae4a70",
   "metadata": {
    "execution": {
     "iopub.execute_input": "2024-02-12T17:59:53.362128Z",
     "iopub.status.busy": "2024-02-12T17:59:53.361773Z",
     "iopub.status.idle": "2024-02-12T17:59:53.369537Z",
     "shell.execute_reply": "2024-02-12T17:59:53.368635Z"
    },
    "papermill": {
     "duration": 0.021574,
     "end_time": "2024-02-12T17:59:53.371403",
     "exception": false,
     "start_time": "2024-02-12T17:59:53.349829",
     "status": "completed"
    },
    "tags": []
   },
   "outputs": [
    {
     "data": {
      "text/plain": [
       "neighborhood_Recoleta            72740.780756\n",
       "neighborhood_Monserrat          -20292.596013\n",
       "neighborhood_Belgrano            46954.208009\n",
       "neighborhood_Villa del Parque   -12595.500847\n",
       "neighborhood_Villa Pueyrredón    -8093.450148\n",
       "dtype: float64"
      ]
     },
     "execution_count": 23,
     "metadata": {},
     "output_type": "execute_result"
    }
   ],
   "source": [
    "feat_imp = pd.Series(coefficients, index = feature_names)\n",
    "feat_imp.head()"
   ]
  },
  {
   "cell_type": "code",
   "execution_count": 24,
   "id": "ec08cd45",
   "metadata": {
    "execution": {
     "iopub.execute_input": "2024-02-12T17:59:53.395903Z",
     "iopub.status.busy": "2024-02-12T17:59:53.395542Z",
     "iopub.status.idle": "2024-02-12T17:59:53.401246Z",
     "shell.execute_reply": "2024-02-12T17:59:53.400340Z"
    },
    "papermill": {
     "duration": 0.020273,
     "end_time": "2024-02-12T17:59:53.403231",
     "exception": false,
     "start_time": "2024-02-12T17:59:53.382958",
     "status": "completed"
    },
    "tags": []
   },
   "outputs": [],
   "source": [
    "# Check your work\n",
    "assert isinstance(\n",
    "    feat_imp, pd.Series\n",
    "), f\"`feat_imp` should be a `float`, not {type(feat_imp)}.\"\n",
    "assert feat_imp.shape == (57,), f\"`feat_imp` is wrong shape: {feat_imp.shape}.\"\n",
    "assert all(\n",
    "    a == b for a, b in zip(sorted(feature_names), sorted(feat_imp.index))\n",
    "), \"The index of `feat_imp` should be identical to `features`.\""
   ]
  },
  {
   "cell_type": "markdown",
   "id": "3aff24bd",
   "metadata": {
    "papermill": {
     "duration": 0.010789,
     "end_time": "2024-02-12T17:59:53.425173",
     "exception": false,
     "start_time": "2024-02-12T17:59:53.414384",
     "status": "completed"
    },
    "tags": []
   },
   "source": [
    "Run the cell below to print the equation that your model has determined for predicting `apartment price` based on `longitude` and `latitude`"
   ]
  },
  {
   "cell_type": "code",
   "execution_count": 25,
   "id": "d1c4de62",
   "metadata": {
    "execution": {
     "iopub.execute_input": "2024-02-12T17:59:53.449006Z",
     "iopub.status.busy": "2024-02-12T17:59:53.447995Z",
     "iopub.status.idle": "2024-02-12T17:59:53.454683Z",
     "shell.execute_reply": "2024-02-12T17:59:53.453293Z"
    },
    "papermill": {
     "duration": 0.020928,
     "end_time": "2024-02-12T17:59:53.456955",
     "exception": false,
     "start_time": "2024-02-12T17:59:53.436027",
     "status": "completed"
    },
    "tags": []
   },
   "outputs": [
    {
     "name": "stdout",
     "output_type": "stream",
     "text": [
      "price = 118524.65\n",
      "+ (72740.78 * neighborhood_Recoleta)\n",
      "+ (-20292.6 * neighborhood_Monserrat)\n",
      "+ (46954.21 * neighborhood_Belgrano)\n",
      "+ (-12595.5 * neighborhood_Villa del Parque)\n",
      "+ (-8093.45 * neighborhood_Villa Pueyrredón)\n",
      "+ (2903.34 * neighborhood_Almagro)\n",
      "+ (45934.41 * neighborhood_Palermo)\n",
      "+ (-19370.74 * neighborhood_)\n",
      "+ (-7818.09 * neighborhood_Tribunales)\n",
      "+ (-11172.55 * neighborhood_Balvanera)\n",
      "+ (55590.93 * neighborhood_Barrio Norte)\n",
      "+ (-3230.37 * neighborhood_Once)\n",
      "+ (5638.47 * neighborhood_San Telmo)\n",
      "+ (-48669.35 * neighborhood_Villa Lugano)\n",
      "+ (12223.11 * neighborhood_Coghlan)\n",
      "+ (-4618.66 * neighborhood_Barracas)\n",
      "+ (12671.71 * neighborhood_Villa Urquiza)\n",
      "+ (4330.55 * neighborhood_Abasto)\n",
      "+ (6277.05 * neighborhood_Villa Crespo)\n",
      "+ (-19843.92 * neighborhood_Villa Santa Rita)\n",
      "+ (38436.33 * neighborhood_Colegiales)\n",
      "+ (-7108.23 * neighborhood_Paternal)\n",
      "+ (9252.89 * neighborhood_Caballito)\n",
      "+ (-7678.62 * neighborhood_Parque Chacabuco)\n",
      "+ (27042.61 * neighborhood_Retiro)\n",
      "+ (3860.58 * neighborhood_Villa Devoto)\n",
      "+ (-6.3 * neighborhood_Villa Luro)\n",
      "+ (-10734.35 * neighborhood_San Nicolás)\n",
      "+ (14701.16 * neighborhood_Saavedra)\n",
      "+ (-8662.28 * neighborhood_Flores)\n",
      "+ (-7905.29 * neighborhood_Centro / Microcentro)\n",
      "+ (-13729.1 * neighborhood_Liniers)\n",
      "+ (-10678.63 * neighborhood_San Cristobal)\n",
      "+ (-28353.36 * neighborhood_Boca)\n",
      "+ (-7974.66 * neighborhood_Congreso)\n",
      "+ (-6323.68 * neighborhood_Parque Centenario)\n",
      "+ (-32439.87 * neighborhood_Parque Chas)\n",
      "+ (42831.32 * neighborhood_Nuñez)\n",
      "+ (-15807.01 * neighborhood_Parque Patricios)\n",
      "+ (-6837.4 * neighborhood_Boedo)\n",
      "+ (-14088.02 * neighborhood_Floresta)\n",
      "+ (-21078.78 * neighborhood_Mataderos)\n",
      "+ (128100.05 * neighborhood_Puerto Madero)\n",
      "+ (7714.62 * neighborhood_Villa General Mitre)\n",
      "+ (-772.7 * neighborhood_Agronomía)\n",
      "+ (-11208.9 * neighborhood_Villa Ortuzar)\n",
      "+ (-2898.96 * neighborhood_Chacarita)\n",
      "+ (-27219.72 * neighborhood_Velez Sarsfield)\n",
      "+ (-3427.44 * neighborhood_Monte Castro)\n",
      "+ (72270.21 * neighborhood_Las Cañitas)\n",
      "+ (-41748.73 * neighborhood_Constitución)\n",
      "+ (-29585.61 * neighborhood_Parque Avellaneda)\n",
      "+ (-59248.81 * neighborhood_Villa Soldati)\n",
      "+ (-4937.21 * neighborhood_Versalles)\n",
      "+ (-43909.59 * neighborhood_Pompeya)\n",
      "+ (-7393.49 * neighborhood_Villa Real)\n",
      "+ (-22012.32 * neighborhood_Catalinas)\n"
     ]
    }
   ],
   "source": [
    "print(f\"price = {intercept.round(2)}\")\n",
    "for f, c in feat_imp.items():\n",
    "    print(f\"+ ({round(c, 2)} * {f})\")"
   ]
  },
  {
   "cell_type": "markdown",
   "id": "8974bdd2",
   "metadata": {
    "papermill": {
     "duration": 0.01085,
     "end_time": "2024-02-12T17:59:53.478936",
     "exception": false,
     "start_time": "2024-02-12T17:59:53.468086",
     "status": "completed"
    },
    "tags": []
   },
   "source": [
    "Create a horizontal bar chart that shows the top 15 coefficients for your model, based on their absolute value."
   ]
  },
  {
   "cell_type": "code",
   "execution_count": 26,
   "id": "46337271",
   "metadata": {
    "execution": {
     "iopub.execute_input": "2024-02-12T17:59:53.503146Z",
     "iopub.status.busy": "2024-02-12T17:59:53.502816Z",
     "iopub.status.idle": "2024-02-12T17:59:53.879925Z",
     "shell.execute_reply": "2024-02-12T17:59:53.878847Z"
    },
    "papermill": {
     "duration": 0.392458,
     "end_time": "2024-02-12T17:59:53.882474",
     "exception": false,
     "start_time": "2024-02-12T17:59:53.490016",
     "status": "completed"
    },
    "tags": []
   },
   "outputs": [
    {
     "data": {
      "image/png": "[encoded data removed]",
      "text/plain": [
       "<Figure size 640x480 with 1 Axes>"
      ]
     },
     "metadata": {},
     "output_type": "display_data"
    }
   ],
   "source": [
    "feat_imp.sort_values(key=abs).tail(15).plot(kind=\"barh\")\n",
    "plt.xlabel(\"Importance [USD]\")\n",
    "plt.ylabel(\"Feature\")\n",
    "plt.title(\"Feature Importance for Apartment Price\");"
   ]
  }
 ],
 "metadata": {
  "kaggle": {
   "accelerator": "none",
   "dataSources": [
    {
     "datasetId": 4433246,
     "sourceId": 7612930,
     "sourceType": "datasetVersion"
    }
   ],
   "dockerImageVersionId": 30646,
   "isGpuEnabled": false,
   "isInternetEnabled": true,
   "language": "python",
   "sourceType": "notebook"
  },
  "kernelspec": {
   "display_name": "Python 3",
   "language": "python",
   "name": "python3"
  },
  "language_info": {
   "codemirror_mode": {
    "name": "ipython",
    "version": 3
   },
   "file_extension": ".py",
   "mimetype": "text/x-python",
   "name": "python",
   "nbconvert_exporter": "python",
   "pygments_lexer": "ipython3",
   "version": "3.10.13"
  },
  "papermill": {
   "default_parameters": {},
   "duration": 7.687694,
   "end_time": "2024-02-12T17:59:54.414161",
   "environment_variables": {},
   "exception": null,
   "input_path": "__notebook__.ipynb",
   "output_path": "__notebook__.ipynb",
   "parameters": {},
   "start_time": "2024-02-12T17:59:46.726467",
   "version": "2.5.0"
  }
 },
 "nbformat": 4,
 "nbformat_minor": 5
}
